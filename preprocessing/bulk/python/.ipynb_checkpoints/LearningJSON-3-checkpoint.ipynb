{
 "cells": [
  {
   "cell_type": "code",
   "execution_count": 79,
   "metadata": {},
   "outputs": [],
   "source": [
    "import json\n",
    "SAMPLES_META = json.load(open('/projects/barthf/GLASS-WG/data/ref/test_samples_v2.json'))"
   ]
  },
  {
   "cell_type": "code",
   "execution_count": 93,
   "metadata": {},
   "outputs": [
    {
     "name": "stdout",
     "output_type": "stream",
     "text": [
      "test testN-A\n"
     ]
    }
   ],
   "source": [
    "BAM_FILES = {}\n",
    "BAM_FILES_UUIDS = {}\n",
    "BAM_READGROUPS = {}\n",
    "ALL_READGROUPS = {}\n",
    "READGROUP_SAMPLE = {}\n",
    "FQ_FILES = {}\n",
    "SAMPLES = []\n",
    "PONBYBATCH = {}\n",
    "\n",
    "RGPL = {}\n",
    "RGPU = {}\n",
    "RGLB = {}\n",
    "RGDT = {}\n",
    "RGSM = {}\n",
    "RGCN = {}\n",
    "for case in SAMPLES_META:\n",
    "    if case[\"case_project\"] not in PONBYBATCH:\n",
    "        PONBYBATCH[case[\"case_project\"]] = []\n",
    "    for sample in case[\"samples\"]:\n",
    "        if sample[\"sample_type\"] == \"Blood Derived Normal\":\n",
    "            PONBYBATCH[case[\"case_project\"]].append(sample[\"sample_id\"])\n",
    "        SAMPLES.append(sample[\"sample_id\"])\n",
    "        FQ_FILES[sample[\"sample_id\"]] = {}\n",
    "        RGPL[sample[\"sample_id\"]] = {}\n",
    "        RGPU[sample[\"sample_id\"]] = {}\n",
    "        RGLB[sample[\"sample_id\"]] = {}\n",
    "        RGDT[sample[\"sample_id\"]] = {}\n",
    "        RGSM[sample[\"sample_id\"]] = {}\n",
    "        RGCN[sample[\"sample_id\"]] = {}\n",
    "        for file in sample[\"files\"]:\n",
    "            if file[\"file_format\"] == \"BAM\":\n",
    "                BAM_FILES[sample[\"sample_id\"]] = file[\"file_name\"]\n",
    "                BAM_FILES_UUIDS[sample[\"sample_id\"]] = file[\"file_uuid\"]\n",
    "                BAM_READGROUPS[sample[\"sample_id\"]] = [readgroup[\"rg_ID\"] for readgroup in file[\"readgroups\"]]\n",
    "                ALL_READGROUPS[sample[\"sample_id\"]] = [readgroup[\"rg_ID\"] for readgroup in file[\"readgroups\"]]\n",
    "                for readgroup in file[\"readgroups\"]:\n",
    "                    READGROUP_SAMPLE[readgroup[\"rg_ID\"]] = sample[\"sample_id\"]\n",
    "            if file[\"file_format\"] == \"FQ\":\n",
    "                FQ_FILES[sample[\"sample_id\"]][file[\"readgroups\"][0][\"rg_ID\"]] = file[\"file_name\"].split(\",\")\n",
    "                RGPL[sample[\"sample_id\"]][file[\"readgroups\"][0][\"rg_ID\"]] = file[\"readgroups\"][0][\"rg_PL\"]\n",
    "                RGPU[sample[\"sample_id\"]][file[\"readgroups\"][0][\"rg_ID\"]] = file[\"readgroups\"][0][\"rg_PU\"]\n",
    "                RGLB[sample[\"sample_id\"]][file[\"readgroups\"][0][\"rg_ID\"]] = file[\"readgroups\"][0][\"rg_LB\"]\n",
    "                RGDT[sample[\"sample_id\"]][file[\"readgroups\"][0][\"rg_ID\"]] = file[\"readgroups\"][0][\"rg_DT\"]\n",
    "                RGSM[sample[\"sample_id\"]][file[\"readgroups\"][0][\"rg_ID\"]] = file[\"readgroups\"][0][\"rg_SM\"]\n",
    "                RGCN[sample[\"sample_id\"]][file[\"readgroups\"][0][\"rg_ID\"]] = file[\"readgroups\"][0][\"rg_CN\"]\n",
    "                if sample[\"sample_id\"] in ALL_READGROUPS:\n",
    "                    ALL_READGROUPS[sample[\"sample_id\"]].append(file[\"readgroups\"][0][\"rg_ID\"])\n",
    "                else:\n",
    "                    ALL_READGROUPS[sample[\"sample_id\"]] = [ file[\"readgroups\"][0][\"rg_ID\"] ]\n",
    "\n",
    "FQ_FILES = dict((sample,readgroup) for sample,readgroup in FQ_FILES.items() if len(readgroup)>0)"
   ]
  },
  {
   "cell_type": "code",
   "execution_count": 95,
   "metadata": {},
   "outputs": [
    {
     "data": {
      "text/plain": [
       "{'test': ['testN-A']}"
      ]
     },
     "execution_count": 95,
     "metadata": {},
     "output_type": "execute_result"
    }
   ],
   "source": [
    "PONBYBATCH"
   ]
  },
  {
   "cell_type": "code",
   "execution_count": 48,
   "metadata": {},
   "outputs": [
    {
     "data": {
      "text/plain": [
       "['testT-A', 'testN-A', 'testT-B']"
      ]
     },
     "execution_count": 48,
     "metadata": {},
     "output_type": "execute_result"
    }
   ],
   "source": [
    "SAMPLES"
   ]
  },
  {
   "cell_type": "code",
   "execution_count": 60,
   "metadata": {},
   "outputs": [
    {
     "data": {
      "text/plain": [
       "{'testT-A': ['6172_7#3',\n",
       "  '6206_7#3',\n",
       "  '6209_1#3',\n",
       "  '6209_2#3',\n",
       "  '6209_3#3',\n",
       "  '6209_4#3',\n",
       "  '6209_5#3',\n",
       "  '6209_6#3',\n",
       "  '6209_7#3',\n",
       "  '6209_8#3'],\n",
       " 'testN-A': ['6209_1#3',\n",
       "  '6209_2#3',\n",
       "  '6209_3#3',\n",
       "  '6209_4#3',\n",
       "  '6209_5#3',\n",
       "  '6209_5#3',\n",
       "  '6209_7#3',\n",
       "  '6209_8#3',\n",
       "  '6206_7#3',\n",
       "  '6172_7#3'],\n",
       " 'testT-B': ['1']}"
      ]
     },
     "execution_count": 60,
     "metadata": {},
     "output_type": "execute_result"
    }
   ],
   "source": [
    "ALL_READGROUPS"
   ]
  },
  {
   "cell_type": "code",
   "execution_count": 4,
   "metadata": {},
   "outputs": [
    {
     "data": {
      "text/plain": [
       "{'testT-A': ['6172_7#3',\n",
       "  '6206_7#3',\n",
       "  '6209_1#3',\n",
       "  '6209_2#3',\n",
       "  '6209_3#3',\n",
       "  '6209_4#3',\n",
       "  '6209_5#3',\n",
       "  '6209_5#3',\n",
       "  '6209_7#3',\n",
       "  '6209_8#3'],\n",
       " 'testT-B': ['1']}"
      ]
     },
     "execution_count": 4,
     "metadata": {},
     "output_type": "execute_result"
    }
   ],
   "source": [
    "BAM_READGROUPS"
   ]
  },
  {
   "cell_type": "code",
   "execution_count": 29,
   "metadata": {},
   "outputs": [
    {
     "data": {
      "text/plain": [
       "'6172_7#3'"
      ]
     },
     "execution_count": 29,
     "metadata": {},
     "output_type": "execute_result"
    }
   ],
   "source": [
    "SAMPLES_META[0][\"samples\"][0][\"files\"][0][\"readgroups\"][0][\"rg_ID\"]"
   ]
  },
  {
   "cell_type": "code",
   "execution_count": 43,
   "metadata": {},
   "outputs": [
    {
     "data": {
      "text/plain": [
       "dict_keys(['6172_7#3', '6206_7#3', '6209_1#3', '6209_2#3', '6209_3#3', '6209_4#3', '6209_5#3', '6209_7#3', '6209_8#3', '1'])"
      ]
     },
     "execution_count": 43,
     "metadata": {},
     "output_type": "execute_result"
    }
   ],
   "source": [
    "READGROUP_SAMPLE.keys()"
   ]
  },
  {
   "cell_type": "code",
   "execution_count": 39,
   "metadata": {},
   "outputs": [
    {
     "data": {
      "text/plain": [
       "['bwa/test/test.6172_7#3.realn.bam',\n",
       " 'bwa/test/test.6206_7#3.realn.bam',\n",
       " 'bwa/test/test.6209_1#3.realn.bam',\n",
       " 'bwa/test/test.6209_2#3.realn.bam',\n",
       " 'bwa/test/test.6209_3#3.realn.bam',\n",
       " 'bwa/test/test.6209_4#3.realn.bam',\n",
       " 'bwa/test/test.6209_5#3.realn.bam',\n",
       " 'bwa/test/test.6209_5#3.realn.bam',\n",
       " 'bwa/test/test.6209_7#3.realn.bam',\n",
       " 'bwa/test/test.6209_8#3.realn.bam']"
      ]
     },
     "execution_count": 39,
     "metadata": {},
     "output_type": "execute_result"
    }
   ],
   "source": [
    "[\"bwa/{sample}/{sample}.{rg}.realn.bam\".format(sample=\"test\", rg=rg) for rg in BAM_READGROUPS[\"testT-A\"]]"
   ]
  },
  {
   "cell_type": "code",
   "execution_count": 38,
   "metadata": {},
   "outputs": [],
   "source": [
    "SAMPLE_READGROUP = { \"SampleA\" : [ \"RG1\", \"RG2\", \"RG3\" ], \"SampleB\" :  [ \"RG1\" ], \"SampleC\" : [ \"RG1\", \"RG2\" ] }"
   ]
  },
  {
   "cell_type": "code",
   "execution_count": 61,
   "metadata": {},
   "outputs": [],
   "source": [
    "import pandas as pd\n",
    "rgmap = pd.DataFrame(\n",
    "    {\n",
    "        \"READ_GROUP_ID\": BAM_READGROUPS['testT-A'],\n",
    "        \"OUTPUT\": [\"{sample}.{rg}.bam\".format(sample=\"ccc\", rg=rg) for rg in BAM_READGROUPS['testT-A']]\n",
    "    },\n",
    "    columns = [\"READ_GROUP_ID\", \"OUTPUT\"]\n",
    ")\n",
    "rgmap\n",
    "rgmap.to_csv(\"test.tsv\", sep=\"\\t\", index=False)"
   ]
  },
  {
   "cell_type": "code",
   "execution_count": 75,
   "metadata": {},
   "outputs": [
    {
     "data": {
      "text/plain": [
       "['testT-A', 'testT-B']"
      ]
     },
     "execution_count": 75,
     "metadata": {},
     "output_type": "execute_result"
    }
   ],
   "source": [
    "import itertools as it\n",
    "[key for key, value in BAM_READGROUPS.items() if key not in \"testN-B\"]"
   ]
  },
  {
   "cell_type": "code",
   "execution_count": null,
   "metadata": {},
   "outputs": [],
   "source": [
    "SAMPLE_READGROUP = { \"A\" : [ \"1\", \"2\", \"3\" ], \"B\" :  [ \"2\" ], \"C\" : [ \"1\", \"2\" ] }\n",
    "\n",
    "A 1\n",
    "A 2\n",
    "A 3\n",
    "B 2\n",
    "C 1\n",
    "C 2"
   ]
  },
  {
   "cell_type": "code",
   "execution_count": 59,
   "metadata": {},
   "outputs": [
    {
     "data": {
      "text/plain": [
       "'testN-A_QTL190044_B05B0ABXX_L1_R1.fq'"
      ]
     },
     "execution_count": 59,
     "metadata": {},
     "output_type": "execute_result"
    }
   ],
   "source": [
    "FQ_FILES\n",
    "FQ_FILES[\"testN-A\"][\"6209_1#3\"][0]"
   ]
  },
  {
   "cell_type": "code",
   "execution_count": 44,
   "metadata": {},
   "outputs": [
    {
     "data": {
      "text/plain": [
       "{'testN-A': {'6209_1#3': ['fastq/testN-A/testN-A_QTL190044_B05B0ABXX_L1_R1.fq',\n",
       "   'fastq/testN-A/testN-A_QTL190044_B05B0ABXX_L1_R2.fq'],\n",
       "  '6209_2#3': ['fastq/testN-A/testN-A_QTL190044_B05B0ABXX_L2_R1.fq',\n",
       "   'fastq/testN-A/testN-A_QTL190044_B05B0ABXX_L2_R2.fq'],\n",
       "  '6209_3#3': ['fastq/testN-A/testN-A_QTL190044_B05B0ABXX_L3_R1.fq',\n",
       "   'fastq/testN-A/testN-A_QTL190044_B05B0ABXX_L3_R2.fq'],\n",
       "  '6209_4#3': ['fastq/testN-A/testN-A_QTL190044_B05B0ABXX_L4_R1.fq',\n",
       "   'fastq/testN-A/testN-A_QTL190044_B05B0ABXX_L4_R2.fq'],\n",
       "  '6209_5#3': ['fastq/testN-A/testN-A_QTL190044_B05B0ABXX_L6_R1.fq',\n",
       "   'fastq/testN-A/testN-A_QTL190044_B05B0ABXX_L6_R2.fq'],\n",
       "  '6209_7#3': ['fastq/testN-A/testN-A_QTL190044_B05B0ABXX_L7_R1.fq',\n",
       "   'fastq/testN-A/testN-A_QTL190044_B05B0ABXX_L7_R2.fq'],\n",
       "  '6209_8#3': ['fastq/testN-A/testN-A_QTL190044_B05B0ABXX_L8_R1.fq',\n",
       "   'fastq/testN-A/testN-A_QTL190044_B05B0ABXX_L8_R2.fq'],\n",
       "  '6206_7#3': ['fastq/testN-A/testN-A_QTL190044_B06GPABXX_L7_R1.fq',\n",
       "   'fastq/testN-A/testN-A_QTL190044_B06GPABXX_L7_R2.fq'],\n",
       "  '6172_7#3': ['fastq/testN-A/testN-A_QTL190044_C004YABXX_L7_R1.fq',\n",
       "   'fastq/testN-A/testN-A_QTL190044_C004YABXX_L7_R2.fq']}}"
      ]
     },
     "execution_count": 44,
     "metadata": {},
     "output_type": "execute_result"
    }
   ],
   "source": [
    "dict((k,v) for k,v in FQ_FILES.items() if len(v)>0)"
   ]
  },
  {
   "cell_type": "code",
   "execution_count": 69,
   "metadata": {},
   "outputs": [
    {
     "data": {
      "text/plain": [
       "['qc/testT-A/6172_7#3_fastqc.html',\n",
       " 'qc/testT-A/6206_7#3_fastqc.html',\n",
       " 'qc/testT-A/6209_1#3_fastqc.html',\n",
       " 'qc/testT-A/6209_2#3_fastqc.html',\n",
       " 'qc/testT-A/6209_3#3_fastqc.html',\n",
       " 'qc/testT-A/6209_4#3_fastqc.html',\n",
       " 'qc/testT-A/6209_5#3_fastqc.html',\n",
       " 'qc/testT-A/6209_6#3_fastqc.html',\n",
       " 'qc/testT-A/6209_7#3_fastqc.html',\n",
       " 'qc/testT-A/6209_8#3_fastqc.html',\n",
       " 'qc/testN-A/6209_1#3_fastqc.html',\n",
       " 'qc/testN-A/6209_2#3_fastqc.html',\n",
       " 'qc/testN-A/6209_3#3_fastqc.html',\n",
       " 'qc/testN-A/6209_4#3_fastqc.html',\n",
       " 'qc/testN-A/6209_5#3_fastqc.html',\n",
       " 'qc/testN-A/6209_5#3_fastqc.html',\n",
       " 'qc/testN-A/6209_7#3_fastqc.html',\n",
       " 'qc/testN-A/6209_8#3_fastqc.html',\n",
       " 'qc/testN-A/6206_7#3_fastqc.html',\n",
       " 'qc/testN-A/6172_7#3_fastqc.html',\n",
       " 'qc/testT-B/1_fastqc.html']"
      ]
     },
     "execution_count": 69,
     "metadata": {},
     "output_type": "execute_result"
    }
   ],
   "source": []
  },
  {
   "cell_type": "code",
   "execution_count": 70,
   "metadata": {},
   "outputs": [
    {
     "data": {
      "text/plain": [
       "dict_keys(['testT-A', 'testN-A', 'testT-B'])"
      ]
     },
     "execution_count": 70,
     "metadata": {},
     "output_type": "execute_result"
    }
   ],
   "source": [
    "ALL_READGROUPS.keys()"
   ]
  },
  {
   "cell_type": "code",
   "execution_count": null,
   "metadata": {},
   "outputs": [],
   "source": []
  }
 ],
 "metadata": {
  "kernelspec": {
   "display_name": "Python 3",
   "language": "python",
   "name": "python3"
  },
  "language_info": {
   "codemirror_mode": {
    "name": "ipython",
    "version": 3
   },
   "file_extension": ".py",
   "mimetype": "text/x-python",
   "name": "python",
   "nbconvert_exporter": "python",
   "pygments_lexer": "ipython3",
   "version": "3.6.4"
  }
 },
 "nbformat": 4,
 "nbformat_minor": 2
}
