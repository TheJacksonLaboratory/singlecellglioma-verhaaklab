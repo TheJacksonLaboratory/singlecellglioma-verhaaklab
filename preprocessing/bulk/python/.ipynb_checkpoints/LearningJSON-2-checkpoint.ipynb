{
 "cells": [
  {
   "cell_type": "code",
   "execution_count": 43,
   "metadata": {},
   "outputs": [],
   "source": [
    "import json\n",
    "SAMPLES_META = json.load(open('../data/ref/test_samples.json'))"
   ]
  },
  {
   "cell_type": "code",
   "execution_count": 26,
   "metadata": {},
   "outputs": [
    {
     "data": {
      "text/plain": [
       "['test1.bam', 'test3.bam']"
      ]
     },
     "execution_count": 26,
     "metadata": {},
     "output_type": "execute_result"
    }
   ],
   "source": [
    "bam_files = []\n",
    "for value in data:\n",
    "    if value[\"format\"] == \"BAM\":\n",
    "        bam_files.append(value[\"files\"][0][\"file_name\"])\n",
    "\n",
    "bam_files"
   ]
  },
  {
   "cell_type": "code",
   "execution_count": 40,
   "metadata": {},
   "outputs": [
    {
     "data": {
      "text/plain": [
       "{'_test2': ['_test2_QTL190044_B05B0ABXX_L1_R1.fq',\n",
       "  '_test2_QTL190044_B05B0ABXX_L2_R1.fq',\n",
       "  '_test2_QTL190044_B05B0ABXX_L3_R1.fq',\n",
       "  '_test2_QTL190044_B05B0ABXX_L4_R1.fq',\n",
       "  '_test2_QTL190044_B05B0ABXX_L5_R1.fq',\n",
       "  '_test2_QTL190044_B05B0ABXX_L6_R1.fq',\n",
       "  '_test2_QTL190044_B05B0ABXX_L7_R1.fq',\n",
       "  '_test2_QTL190044_B05B0ABXX_L8_R1.fq',\n",
       "  '_test2_QTL190044_B06GPABXX_L7_R1.fq',\n",
       "  '_test2_QTL190044_C004YABXX_L7_R1.fq',\n",
       "  '_test2_QTL190044_B05B0ABXX_L1_R2.fq',\n",
       "  '_test2_QTL190044_B05B0ABXX_L2_R2.fq',\n",
       "  '_test2_QTL190044_B05B0ABXX_L3_R2.fq',\n",
       "  '_test2_QTL190044_B05B0ABXX_L4_R2.fq',\n",
       "  '_test2_QTL190044_B05B0ABXX_L5_R2.fq',\n",
       "  '_test2_QTL190044_B05B0ABXX_L6_R2.fq',\n",
       "  '_test2_QTL190044_B05B0ABXX_L7_R2.fq',\n",
       "  '_test2_QTL190044_B05B0ABXX_L8_R2.fq',\n",
       "  '_test2_QTL190044_B06GPABXX_L7_R2.fq',\n",
       "  '_test2_QTL190044_C004YABXX_L7_R2.fq']}"
      ]
     },
     "execution_count": 40,
     "metadata": {},
     "output_type": "execute_result"
    }
   ],
   "source": [
    "FQ_FILES = {}\n",
    "for value in SAMPLES_META:\n",
    "    if value[\"format\"] == \"FASTQ\":\n",
    "        FQ_FILES[value[\"id\"]] = [item[\"R1\"] for item in value[\"files\"]] + [item[\"R2\"] for item in value[\"files\"]]\n",
    " \n",
    "FQ_FILES"
   ]
  },
  {
   "cell_type": "code",
   "execution_count": 44,
   "metadata": {},
   "outputs": [
    {
     "data": {
      "text/plain": [
       "{'_test1': ['_test1/test1.bam'], '_test3': ['test3/test3.bam']}"
      ]
     },
     "execution_count": 44,
     "metadata": {},
     "output_type": "execute_result"
    }
   ],
   "source": [
    "BAM_FILES = {}\n",
    "for value in SAMPLES_META:\n",
    "    if value[\"format\"] == \"BAM\":\n",
    "        BAM_FILES[value[\"id\"]] = [item[\"file_name\"] for item in value[\"files\"]]\n",
    "\n",
    "BAM_FILES"
   ]
  },
  {
   "cell_type": "code",
   "execution_count": 46,
   "metadata": {},
   "outputs": [
    {
     "data": {
      "text/plain": [
       "['_test1', '_test2', '_test3']"
      ]
     },
     "execution_count": 46,
     "metadata": {},
     "output_type": "execute_result"
    }
   ],
   "source": [
    "SAMPLES = [value[\"id\"] for value in SAMPLES_META]\n",
    "SAMPLES"
   ]
  },
  {
   "cell_type": "code",
   "execution_count": null,
   "metadata": {},
   "outputs": [],
   "source": []
  }
 ],
 "metadata": {
  "kernelspec": {
   "display_name": "Python 3",
   "language": "python",
   "name": "python3"
  },
  "language_info": {
   "codemirror_mode": {
    "name": "ipython",
    "version": 3
   },
   "file_extension": ".py",
   "mimetype": "text/x-python",
   "name": "python",
   "nbconvert_exporter": "python",
   "pygments_lexer": "ipython3",
   "version": "3.6.4"
  }
 },
 "nbformat": 4,
 "nbformat_minor": 2
}
